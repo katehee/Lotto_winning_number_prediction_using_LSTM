{
  "nbformat": 4,
  "nbformat_minor": 0,
  "metadata": {
    "colab": {
      "name": "Untitled53.ipynb",
      "provenance": [],
      "authorship_tag": "ABX9TyO499qDElmzsZUO+//PiQXu"
    },
    "kernelspec": {
      "name": "python3",
      "display_name": "Python 3"
    },
    "language_info": {
      "name": "python"
    }
  },
  "cells": [
    {
      "cell_type": "code",
      "execution_count": 1,
      "metadata": {
        "id": "BMYwwuYJwRph"
      },
      "outputs": [],
      "source": [
        "import pandas as pd\n",
        "import numpy as np\n",
        "import pickle\n",
        "from sklearn.model_selection import train_test_split\n",
        "\n",
        "import tensorflow as tf\n",
        "from tensorflow import keras\n",
        "from tensorflow.keras import layers\n",
        "from tensorflow.keras import models\n",
        "from keras.models import Sequential\n",
        "from keras.layers import LSTM, Dense, Bidirectional, Dropout\n",
        "\n",
        "import matplotlib.pyplot as plt"
      ]
    },
    {
      "cell_type": "markdown",
      "source": [
        "#Import data"
      ],
      "metadata": {
        "id": "jmlibriqyai-"
      }
    },
    {
      "cell_type": "code",
      "source": [
        "!wget http://www.playnow.com/resources/documents/downloadable-numbers/649.zip\n",
        "!unzip 649.zip"
      ],
      "metadata": {
        "colab": {
          "base_uri": "https://localhost:8080/"
        },
        "id": "Udzj2YCAyQMt",
        "outputId": "c6e9100c-70ad-4a78-e45b-5097e2b34bb0"
      },
      "execution_count": 2,
      "outputs": [
        {
          "output_type": "stream",
          "name": "stdout",
          "text": [
            "--2022-07-16 11:33:43--  http://www.playnow.com/resources/documents/downloadable-numbers/649.zip\n",
            "Resolving www.playnow.com (www.playnow.com)... 198.162.228.12\n",
            "Connecting to www.playnow.com (www.playnow.com)|198.162.228.12|:80... connected.\n",
            "HTTP request sent, awaiting response... 301 Moved Permanently\n",
            "Location: https://www.playnow.com/resources/documents/downloadable-numbers/649.zip [following]\n",
            "--2022-07-16 11:33:43--  https://www.playnow.com/resources/documents/downloadable-numbers/649.zip\n",
            "Connecting to www.playnow.com (www.playnow.com)|198.162.228.12|:443... connected.\n",
            "HTTP request sent, awaiting response... 200 OK\n",
            "Length: 47045 (46K) [application/zip]\n",
            "Saving to: ‘649.zip’\n",
            "\n",
            "649.zip             100%[===================>]  45.94K  --.-KB/s    in 0.1s    \n",
            "\n",
            "2022-07-16 11:33:43 (325 KB/s) - ‘649.zip’ saved [47045/47045]\n",
            "\n",
            "Archive:  649.zip\n",
            "  inflating: 649.csv                 \n"
          ]
        }
      ]
    },
    {
      "cell_type": "code",
      "source": [
        "df = pd.read_csv(\"649.csv\")\n",
        "df.head(3)"
      ],
      "metadata": {
        "colab": {
          "base_uri": "https://localhost:8080/",
          "height": 144
        },
        "id": "TtQgb8NOyTMm",
        "outputId": "cdf5f41a-964b-47e6-9f69-ec04297a195d"
      },
      "execution_count": 3,
      "outputs": [
        {
          "output_type": "execute_result",
          "data": {
            "text/plain": [
              "   PRODUCT  DRAW NUMBER  SEQUENCE NUMBER   DRAW DATE  NUMBER DRAWN 1  \\\n",
              "0      649            1                0  1982-06-12               3   \n",
              "1      649            2                0  1982-06-19               8   \n",
              "2      649            3                0  1982-06-26               1   \n",
              "\n",
              "   NUMBER DRAWN 2  NUMBER DRAWN 3  NUMBER DRAWN 4  NUMBER DRAWN 5  \\\n",
              "0              11              12              14              41   \n",
              "1              33              36              37              39   \n",
              "2               6              23              24              27   \n",
              "\n",
              "   NUMBER DRAWN 6  BONUS NUMBER  \n",
              "0              43            13  \n",
              "1              41             9  \n",
              "2              39            34  "
            ],
            "text/html": [
              "\n",
              "  <div id=\"df-12c50184-4746-4bae-a6b3-728308e00066\">\n",
              "    <div class=\"colab-df-container\">\n",
              "      <div>\n",
              "<style scoped>\n",
              "    .dataframe tbody tr th:only-of-type {\n",
              "        vertical-align: middle;\n",
              "    }\n",
              "\n",
              "    .dataframe tbody tr th {\n",
              "        vertical-align: top;\n",
              "    }\n",
              "\n",
              "    .dataframe thead th {\n",
              "        text-align: right;\n",
              "    }\n",
              "</style>\n",
              "<table border=\"1\" class=\"dataframe\">\n",
              "  <thead>\n",
              "    <tr style=\"text-align: right;\">\n",
              "      <th></th>\n",
              "      <th>PRODUCT</th>\n",
              "      <th>DRAW NUMBER</th>\n",
              "      <th>SEQUENCE NUMBER</th>\n",
              "      <th>DRAW DATE</th>\n",
              "      <th>NUMBER DRAWN 1</th>\n",
              "      <th>NUMBER DRAWN 2</th>\n",
              "      <th>NUMBER DRAWN 3</th>\n",
              "      <th>NUMBER DRAWN 4</th>\n",
              "      <th>NUMBER DRAWN 5</th>\n",
              "      <th>NUMBER DRAWN 6</th>\n",
              "      <th>BONUS NUMBER</th>\n",
              "    </tr>\n",
              "  </thead>\n",
              "  <tbody>\n",
              "    <tr>\n",
              "      <th>0</th>\n",
              "      <td>649</td>\n",
              "      <td>1</td>\n",
              "      <td>0</td>\n",
              "      <td>1982-06-12</td>\n",
              "      <td>3</td>\n",
              "      <td>11</td>\n",
              "      <td>12</td>\n",
              "      <td>14</td>\n",
              "      <td>41</td>\n",
              "      <td>43</td>\n",
              "      <td>13</td>\n",
              "    </tr>\n",
              "    <tr>\n",
              "      <th>1</th>\n",
              "      <td>649</td>\n",
              "      <td>2</td>\n",
              "      <td>0</td>\n",
              "      <td>1982-06-19</td>\n",
              "      <td>8</td>\n",
              "      <td>33</td>\n",
              "      <td>36</td>\n",
              "      <td>37</td>\n",
              "      <td>39</td>\n",
              "      <td>41</td>\n",
              "      <td>9</td>\n",
              "    </tr>\n",
              "    <tr>\n",
              "      <th>2</th>\n",
              "      <td>649</td>\n",
              "      <td>3</td>\n",
              "      <td>0</td>\n",
              "      <td>1982-06-26</td>\n",
              "      <td>1</td>\n",
              "      <td>6</td>\n",
              "      <td>23</td>\n",
              "      <td>24</td>\n",
              "      <td>27</td>\n",
              "      <td>39</td>\n",
              "      <td>34</td>\n",
              "    </tr>\n",
              "  </tbody>\n",
              "</table>\n",
              "</div>\n",
              "      <button class=\"colab-df-convert\" onclick=\"convertToInteractive('df-12c50184-4746-4bae-a6b3-728308e00066')\"\n",
              "              title=\"Convert this dataframe to an interactive table.\"\n",
              "              style=\"display:none;\">\n",
              "        \n",
              "  <svg xmlns=\"http://www.w3.org/2000/svg\" height=\"24px\"viewBox=\"0 0 24 24\"\n",
              "       width=\"24px\">\n",
              "    <path d=\"M0 0h24v24H0V0z\" fill=\"none\"/>\n",
              "    <path d=\"M18.56 5.44l.94 2.06.94-2.06 2.06-.94-2.06-.94-.94-2.06-.94 2.06-2.06.94zm-11 1L8.5 8.5l.94-2.06 2.06-.94-2.06-.94L8.5 2.5l-.94 2.06-2.06.94zm10 10l.94 2.06.94-2.06 2.06-.94-2.06-.94-.94-2.06-.94 2.06-2.06.94z\"/><path d=\"M17.41 7.96l-1.37-1.37c-.4-.4-.92-.59-1.43-.59-.52 0-1.04.2-1.43.59L10.3 9.45l-7.72 7.72c-.78.78-.78 2.05 0 2.83L4 21.41c.39.39.9.59 1.41.59.51 0 1.02-.2 1.41-.59l7.78-7.78 2.81-2.81c.8-.78.8-2.07 0-2.86zM5.41 20L4 18.59l7.72-7.72 1.47 1.35L5.41 20z\"/>\n",
              "  </svg>\n",
              "      </button>\n",
              "      \n",
              "  <style>\n",
              "    .colab-df-container {\n",
              "      display:flex;\n",
              "      flex-wrap:wrap;\n",
              "      gap: 12px;\n",
              "    }\n",
              "\n",
              "    .colab-df-convert {\n",
              "      background-color: #E8F0FE;\n",
              "      border: none;\n",
              "      border-radius: 50%;\n",
              "      cursor: pointer;\n",
              "      display: none;\n",
              "      fill: #1967D2;\n",
              "      height: 32px;\n",
              "      padding: 0 0 0 0;\n",
              "      width: 32px;\n",
              "    }\n",
              "\n",
              "    .colab-df-convert:hover {\n",
              "      background-color: #E2EBFA;\n",
              "      box-shadow: 0px 1px 2px rgba(60, 64, 67, 0.3), 0px 1px 3px 1px rgba(60, 64, 67, 0.15);\n",
              "      fill: #174EA6;\n",
              "    }\n",
              "\n",
              "    [theme=dark] .colab-df-convert {\n",
              "      background-color: #3B4455;\n",
              "      fill: #D2E3FC;\n",
              "    }\n",
              "\n",
              "    [theme=dark] .colab-df-convert:hover {\n",
              "      background-color: #434B5C;\n",
              "      box-shadow: 0px 1px 3px 1px rgba(0, 0, 0, 0.15);\n",
              "      filter: drop-shadow(0px 1px 2px rgba(0, 0, 0, 0.3));\n",
              "      fill: #FFFFFF;\n",
              "    }\n",
              "  </style>\n",
              "\n",
              "      <script>\n",
              "        const buttonEl =\n",
              "          document.querySelector('#df-12c50184-4746-4bae-a6b3-728308e00066 button.colab-df-convert');\n",
              "        buttonEl.style.display =\n",
              "          google.colab.kernel.accessAllowed ? 'block' : 'none';\n",
              "\n",
              "        async function convertToInteractive(key) {\n",
              "          const element = document.querySelector('#df-12c50184-4746-4bae-a6b3-728308e00066');\n",
              "          const dataTable =\n",
              "            await google.colab.kernel.invokeFunction('convertToInteractive',\n",
              "                                                     [key], {});\n",
              "          if (!dataTable) return;\n",
              "\n",
              "          const docLinkHtml = 'Like what you see? Visit the ' +\n",
              "            '<a target=\"_blank\" href=https://colab.research.google.com/notebooks/data_table.ipynb>data table notebook</a>'\n",
              "            + ' to learn more about interactive tables.';\n",
              "          element.innerHTML = '';\n",
              "          dataTable['output_type'] = 'display_data';\n",
              "          await google.colab.output.renderOutput(dataTable, element);\n",
              "          const docLink = document.createElement('div');\n",
              "          docLink.innerHTML = docLinkHtml;\n",
              "          element.appendChild(docLink);\n",
              "        }\n",
              "      </script>\n",
              "    </div>\n",
              "  </div>\n",
              "  "
            ]
          },
          "metadata": {},
          "execution_count": 3
        }
      ]
    },
    {
      "cell_type": "markdown",
      "source": [
        "#Data pre-processing"
      ],
      "metadata": {
        "id": "IT6JmhW4yUx4"
      }
    },
    {
      "cell_type": "code",
      "source": [
        "def get_winning_number(df): \n",
        "  number_set = []\n",
        "  for index, row in df.iterrows(): \n",
        "    sorted_num = sorted(row[4:].tolist())\n",
        "    number_set.append(sorted_num) #df column number drawn 1 to Bonus \n",
        "  print(\"The total of\",len(number_set), \"draw winning numbers are retrieved\")\n",
        "  return number_set\n",
        "winning_numbers = get_winning_number(df)\n",
        "print(winning_numbers[0])"
      ],
      "metadata": {
        "colab": {
          "base_uri": "https://localhost:8080/"
        },
        "id": "XcqP12iuyWa3",
        "outputId": "c98744a5-b425-4dc2-f4a4-90a5ec0eccf9"
      },
      "execution_count": 4,
      "outputs": [
        {
          "output_type": "stream",
          "name": "stdout",
          "text": [
            "The total of 4015 draw winning numbers are retrieved\n",
            "[3, 11, 12, 13, 14, 41, 43]\n"
          ]
        }
      ]
    },
    {
      "cell_type": "markdown",
      "source": [
        "#### Since winning numbers are considered as 'categorical data', the data are one hot encoded"
      ],
      "metadata": {
        "id": "TATfip5CyYt1"
      }
    },
    {
      "cell_type": "code",
      "source": [
        "def number2onehot(numbers):\n",
        "  encoded = np.zeros(49) \n",
        "  for number in numbers: \n",
        "    encoded[number - 1] = 1\n",
        "  return encoded\n",
        "\n",
        "def onehot2number(numbers): \n",
        "  decoded  = []\n",
        "  index = 0\n",
        "  for number in numbers: \n",
        "    if number == 1: \n",
        "      decoded.append(index + 1)\n",
        "    index += 1 \n",
        "  return decoded"
      ],
      "metadata": {
        "id": "RTh8rk7PycqO"
      },
      "execution_count": 5,
      "outputs": []
    },
    {
      "cell_type": "code",
      "source": [
        "enc_winning_numbers = list(map(number2onehot,winning_numbers))\n",
        "# decoded_winning_numbers = list(map(onehot2number, enc_winning_numbers))\n",
        "\n",
        "total_draws = len(enc_winning_numbers)\n",
        "X = enc_winning_numbers[0:total_draws-1]\n",
        "y = enc_winning_numbers[1:total_draws]"
      ],
      "metadata": {
        "id": "fgkLcEMiyeW9"
      },
      "execution_count": 6,
      "outputs": []
    },
    {
      "cell_type": "code",
      "source": [
        "from sklearn.model_selection import train_test_split\n",
        "\n",
        "train_input, test_input, train_target, test_target = train_test_split(X, y, test_size = 0.05, random_state=42) #80:20 \n",
        "train_input, val_input, train_target, val_target = train_test_split(train_input, train_target, test_size = 0.05, random_state=42)\n",
        "print(\"train: {0}, val: {1}, test: {2}\".format(len(train_input), len(val_input), len(test_input)))\n",
        "print(train_input[0].shape)"
      ],
      "metadata": {
        "colab": {
          "base_uri": "https://localhost:8080/"
        },
        "id": "YDWDNHAfygNt",
        "outputId": "328b7e93-90d7-4624-a1ee-6b9ef7f046f8"
      },
      "execution_count": 17,
      "outputs": [
        {
          "output_type": "stream",
          "name": "stdout",
          "text": [
            "train: 3622, val: 191, test: 201\n",
            "(49,)\n"
          ]
        }
      ]
    },
    {
      "cell_type": "markdown",
      "source": [
        "#Modeling"
      ],
      "metadata": {
        "id": "R64jyL1hzyl9"
      }
    },
    {
      "cell_type": "code",
      "source": [
        "train_input = np.array(train_input)\n",
        "train_target = np.array(train_target)\n",
        "val_input = np.array(val_input)\n",
        "val_target = np.array(val_target)"
      ],
      "metadata": {
        "id": "TNAfODWFzkIg"
      },
      "execution_count": 18,
      "outputs": []
    },
    {
      "cell_type": "code",
      "source": [
        "print(train_input.shape, train_target.shape)\n",
        "print(val_input.shape, val_target.shape)"
      ],
      "metadata": {
        "colab": {
          "base_uri": "https://localhost:8080/"
        },
        "id": "goIfiqKVz0xG",
        "outputId": "30b2b566-0ac2-4fcc-8bae-c08942bfff58"
      },
      "execution_count": 19,
      "outputs": [
        {
          "output_type": "stream",
          "name": "stdout",
          "text": [
            "(3622, 49) (3622, 49)\n",
            "(191, 49) (191, 49)\n"
          ]
        }
      ]
    },
    {
      "cell_type": "code",
      "source": [
        "model = Sequential()\n",
        "model.add(LSTM(128, input_shape=(1, 49)))\n",
        "model.add(Dense(49, activation='sigmoid'))\n",
        "model.summary()\n",
        "\n",
        "model.compile(loss='binary_crossentropy', optimizer='adam', metrics=['accuracy'])"
      ],
      "metadata": {
        "colab": {
          "base_uri": "https://localhost:8080/"
        },
        "id": "uTKvCTEtz2Z-",
        "outputId": "e23c222e-1c3b-495b-b3af-b9ccb78fd5ad"
      },
      "execution_count": 22,
      "outputs": [
        {
          "output_type": "stream",
          "name": "stdout",
          "text": [
            "Model: \"sequential_2\"\n",
            "_________________________________________________________________\n",
            " Layer (type)                Output Shape              Param #   \n",
            "=================================================================\n",
            " lstm_2 (LSTM)               (None, 128)               91136     \n",
            "                                                                 \n",
            " dense_2 (Dense)             (None, 49)                6321      \n",
            "                                                                 \n",
            "=================================================================\n",
            "Total params: 97,457\n",
            "Trainable params: 97,457\n",
            "Non-trainable params: 0\n",
            "_________________________________________________________________\n"
          ]
        }
      ]
    },
    {
      "cell_type": "code",
      "source": [
        "# 매 에포크마다 훈련과 검증의 손실 및 정확도를 기록하기 위한 변수\n",
        "train_loss = []\n",
        "train_acc = []\n",
        "val_loss = []\n",
        "val_acc = []\n",
        "\n",
        "for epoch in range(500):\n",
        "\n",
        "    model.reset_states() # important to reset states because we are training from the first draw every epoch \n",
        "\n",
        "    batch_train_loss = []\n",
        "    batch_train_acc = []\n",
        "\n",
        "    #training \n",
        "    for i in range(0, len(train_input)):\n",
        "        \n",
        "        xs = train_input[i].reshape(1, 1, 49)\n",
        "        ys = train_target[i].reshape(1, 49)\n",
        "        \n",
        "        loss, acc = model.train_on_batch(xs, ys) \n",
        "\n",
        "        batch_train_loss.append(loss)\n",
        "        batch_train_acc.append(acc)\n",
        "\n",
        "    train_loss.append(np.mean(batch_train_loss))\n",
        "    train_acc.append(np.mean(batch_train_acc))\n",
        "\n",
        "    batch_val_loss = []\n",
        "    batch_val_acc = []\n",
        "\n",
        "    #validation\n",
        "    for i in range(0, len(val_input)):\n",
        "\n",
        "        xs = val_input[i].reshape(1, 1, 49)\n",
        "        ys = val_target[i].reshape(1, 49)\n",
        "        \n",
        "        loss, acc = model.test_on_batch(xs, ys) \n",
        "        \n",
        "        batch_val_loss.append(loss)\n",
        "        batch_val_acc.append(acc)\n",
        "\n",
        "    val_loss.append(np.mean(batch_val_loss))\n",
        "    val_acc.append(np.mean(batch_val_acc))\n",
        "\n",
        "    print('epoch {0:4d} train acc {1:0.3f} loss {2:0.3f} val acc {3:0.3f} loss {4:0.3f}'.format(epoch, np.mean(batch_train_acc), np.mean(batch_train_loss), np.mean(batch_val_acc), np.mean(batch_val_loss)))"
      ],
      "metadata": {
        "colab": {
          "base_uri": "https://localhost:8080/"
        },
        "id": "tdAzeF8cz7ko",
        "outputId": "4922fb4d-9129-41dc-dbae-566b8965c4f8"
      },
      "execution_count": null,
      "outputs": [
        {
          "output_type": "stream",
          "name": "stdout",
          "text": [
            "epoch    0 train acc 0.109 loss 0.321 val acc 0.010 loss 0.524\n",
            "epoch    1 train acc 0.110 loss 0.319 val acc 0.016 loss 0.528\n",
            "epoch    2 train acc 0.109 loss 0.317 val acc 0.016 loss 0.531\n",
            "epoch    3 train acc 0.110 loss 0.315 val acc 0.016 loss 0.535\n",
            "epoch    4 train acc 0.112 loss 0.314 val acc 0.016 loss 0.539\n",
            "epoch    5 train acc 0.113 loss 0.312 val acc 0.016 loss 0.542\n",
            "epoch    6 train acc 0.115 loss 0.310 val acc 0.016 loss 0.546\n",
            "epoch    7 train acc 0.114 loss 0.308 val acc 0.016 loss 0.550\n",
            "epoch    8 train acc 0.116 loss 0.307 val acc 0.016 loss 0.553\n",
            "epoch    9 train acc 0.117 loss 0.305 val acc 0.016 loss 0.557\n",
            "epoch   10 train acc 0.117 loss 0.304 val acc 0.016 loss 0.561\n",
            "epoch   11 train acc 0.117 loss 0.302 val acc 0.016 loss 0.564\n",
            "epoch   12 train acc 0.117 loss 0.300 val acc 0.010 loss 0.568\n",
            "epoch   13 train acc 0.118 loss 0.299 val acc 0.005 loss 0.572\n",
            "epoch   14 train acc 0.119 loss 0.298 val acc 0.005 loss 0.575\n",
            "epoch   15 train acc 0.118 loss 0.296 val acc 0.005 loss 0.579\n",
            "epoch   16 train acc 0.121 loss 0.295 val acc 0.005 loss 0.582\n",
            "epoch   17 train acc 0.120 loss 0.293 val acc 0.016 loss 0.586\n",
            "epoch   18 train acc 0.122 loss 0.292 val acc 0.010 loss 0.589\n"
          ]
        }
      ]
    },
    {
      "cell_type": "code",
      "source": [
        "import matplotlib.pyplot as plt\n",
        "\n",
        "fig, loss_ax = plt.subplots()\n",
        "\n",
        "acc_ax = loss_ax.twinx()\n",
        "\n",
        "loss_ax.plot(train_loss, 'y', label='train loss')\n",
        "loss_ax.plot(val_loss, 'r', label='val loss')\n",
        "\n",
        "acc_ax.plot(train_acc, 'b', label='train acc')\n",
        "acc_ax.plot(val_acc, 'g', label='val acc')\n",
        "\n",
        "loss_ax.set_xlabel('epoch')\n",
        "loss_ax.set_ylabel('loss')\n",
        "acc_ax.set_ylabel('accuray')\n",
        "\n",
        "loss_ax.legend(loc='upper left')\n",
        "acc_ax.legend(loc='lower left')\n",
        "\n",
        "plt.show()"
      ],
      "metadata": {
        "id": "GxGPw7sCz9Q6"
      },
      "execution_count": null,
      "outputs": []
    },
    {
      "cell_type": "code",
      "source": [
        "from google.colab import files\n",
        "filename = 'finalized_model.sav'\n",
        "pickle.dump(model, open(filename, 'wb'))\n",
        "files.download('finalized_model.sav')"
      ],
      "metadata": {
        "id": "UBTy1mwkAmDv"
      },
      "execution_count": null,
      "outputs": []
    },
    {
      "cell_type": "markdown",
      "source": [
        "#Testing performance"
      ],
      "metadata": {
        "id": "6D18mOVhAVrq"
      }
    },
    {
      "cell_type": "code",
      "source": [
        ""
      ],
      "metadata": {
        "id": "ruCOtberAXN2"
      },
      "execution_count": null,
      "outputs": []
    }
  ]
}