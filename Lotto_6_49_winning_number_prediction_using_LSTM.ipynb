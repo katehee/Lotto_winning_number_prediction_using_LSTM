{
  "nbformat": 4,
  "nbformat_minor": 0,
  "metadata": {
    "colab": {
      "name": "Lotto 6/49 winning number prediction using LSTM.ipynb",
      "provenance": [],
      "authorship_tag": "ABX9TyPgEUbAkbu1UJcZ3Y9xyFWI",
      "include_colab_link": true
    },
    "kernelspec": {
      "name": "python3",
      "display_name": "Python 3"
    },
    "language_info": {
      "name": "python"
    }
  },
  "cells": [
    {
      "cell_type": "markdown",
      "metadata": {
        "id": "view-in-github",
        "colab_type": "text"
      },
      "source": [
        "<a href=\"https://colab.research.google.com/github/katehee/Lotto_winning_number_prediction_using_LSTM/blob/master/Lotto_6_49_winning_number_prediction_using_LSTM.ipynb\" target=\"_parent\"><img src=\"https://colab.research.google.com/assets/colab-badge.svg\" alt=\"Open In Colab\"/></a>"
      ]
    },
    {
      "cell_type": "code",
      "execution_count": null,
      "metadata": {
        "id": "RQX9CCaXDPhY"
      },
      "outputs": [],
      "source": [
        ""
      ]
    },
    {
      "cell_type": "markdown",
      "source": [
        "- import past history \n",
        "- trainset include all the history to predict the latest number \n",
        "- history plot (accuracy, loss) \n",
        "- pull out most frequent number"
      ],
      "metadata": {
        "id": "_IF-8gdlDtIc"
      }
    }
  ]
}