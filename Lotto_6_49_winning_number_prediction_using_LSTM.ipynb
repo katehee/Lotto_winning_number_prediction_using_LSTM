{
  "nbformat": 4,
  "nbformat_minor": 0,
  "metadata": {
    "colab": {
      "name": "Lotto 6/49 winning number prediction using LSTM.ipynb",
      "provenance": [],
      "collapsed_sections": [],
      "authorship_tag": "ABX9TyNJPPgfFSMyNxmc2c1gb4vr",
      "include_colab_link": true
    },
    "kernelspec": {
      "name": "python3",
      "display_name": "Python 3"
    },
    "language_info": {
      "name": "python"
    },
    "accelerator": "GPU",
    "gpuClass": "standard"
  },
  "cells": [
    {
      "cell_type": "markdown",
      "metadata": {
        "id": "view-in-github",
        "colab_type": "text"
      },
      "source": [
        "<a href=\"https://colab.research.google.com/github/katehee/Lotto_winning_number_prediction_using_LSTM/blob/master/Lotto_6_49_winning_number_prediction_using_LSTM.ipynb\" target=\"_parent\"><img src=\"https://colab.research.google.com/assets/colab-badge.svg\" alt=\"Open In Colab\"/></a>"
      ]
    },
    {
      "cell_type": "code",
      "source": [
        "import pandas as pd\n",
        "import numpy as np\n",
        "from sklearn.preprocessing import OneHotEncoder\n",
        "from sklearn.preprocessing import LabelBinarizer"
      ],
      "metadata": {
        "id": "lq6B2LlB55VW"
      },
      "execution_count": 1,
      "outputs": []
    },
    {
      "cell_type": "code",
      "execution_count": 2,
      "metadata": {
        "colab": {
          "base_uri": "https://localhost:8080/"
        },
        "id": "RQX9CCaXDPhY",
        "outputId": "c8a1c2d8-476d-45af-b220-01b681187dd6"
      },
      "outputs": [
        {
          "output_type": "stream",
          "name": "stdout",
          "text": [
            "--2022-06-16 01:21:21--  http://www.playnow.com/resources/documents/downloadable-numbers/649.zip\n",
            "Resolving www.playnow.com (www.playnow.com)... 198.162.228.12\n",
            "Connecting to www.playnow.com (www.playnow.com)|198.162.228.12|:80... connected.\n",
            "HTTP request sent, awaiting response... 301 Moved Permanently\n",
            "Location: https://www.playnow.com/resources/documents/downloadable-numbers/649.zip [following]\n",
            "--2022-06-16 01:21:22--  https://www.playnow.com/resources/documents/downloadable-numbers/649.zip\n",
            "Connecting to www.playnow.com (www.playnow.com)|198.162.228.12|:443... connected.\n",
            "HTTP request sent, awaiting response... 200 OK\n",
            "Length: 46941 (46K) [application/zip]\n",
            "Saving to: ‘649.zip’\n",
            "\n",
            "649.zip             100%[===================>]  45.84K   172KB/s    in 0.3s    \n",
            "\n",
            "2022-06-16 01:21:22 (172 KB/s) - ‘649.zip’ saved [46941/46941]\n",
            "\n",
            "Archive:  649.zip\n",
            "  inflating: 649.csv                 \n"
          ]
        }
      ],
      "source": [
        "!wget http://www.playnow.com/resources/documents/downloadable-numbers/649.zip\n",
        "!unzip 649.zip"
      ]
    },
    {
      "cell_type": "code",
      "source": [
        "df = pd.read_csv(\"649.csv\")\n",
        "df.head(3)"
      ],
      "metadata": {
        "id": "siBDQbgk54ff",
        "colab": {
          "base_uri": "https://localhost:8080/",
          "height": 257
        },
        "outputId": "9dca77fb-b681-460f-813b-27f452c0d9f5"
      },
      "execution_count": 3,
      "outputs": [
        {
          "output_type": "execute_result",
          "data": {
            "text/plain": [
              "   PRODUCT  DRAW NUMBER  SEQUENCE NUMBER   DRAW DATE  NUMBER DRAWN 1  \\\n",
              "0      649            1                0  1982-06-12               3   \n",
              "1      649            2                0  1982-06-19               8   \n",
              "2      649            3                0  1982-06-26               1   \n",
              "\n",
              "   NUMBER DRAWN 2  NUMBER DRAWN 3  NUMBER DRAWN 4  NUMBER DRAWN 5  \\\n",
              "0              11              12              14              41   \n",
              "1              33              36              37              39   \n",
              "2               6              23              24              27   \n",
              "\n",
              "   NUMBER DRAWN 6  BONUS NUMBER  \n",
              "0              43            13  \n",
              "1              41             9  \n",
              "2              39            34  "
            ],
            "text/html": [
              "\n",
              "  <div id=\"df-898458a1-e210-4023-b603-b63b6fe0fe9f\">\n",
              "    <div class=\"colab-df-container\">\n",
              "      <div>\n",
              "<style scoped>\n",
              "    .dataframe tbody tr th:only-of-type {\n",
              "        vertical-align: middle;\n",
              "    }\n",
              "\n",
              "    .dataframe tbody tr th {\n",
              "        vertical-align: top;\n",
              "    }\n",
              "\n",
              "    .dataframe thead th {\n",
              "        text-align: right;\n",
              "    }\n",
              "</style>\n",
              "<table border=\"1\" class=\"dataframe\">\n",
              "  <thead>\n",
              "    <tr style=\"text-align: right;\">\n",
              "      <th></th>\n",
              "      <th>PRODUCT</th>\n",
              "      <th>DRAW NUMBER</th>\n",
              "      <th>SEQUENCE NUMBER</th>\n",
              "      <th>DRAW DATE</th>\n",
              "      <th>NUMBER DRAWN 1</th>\n",
              "      <th>NUMBER DRAWN 2</th>\n",
              "      <th>NUMBER DRAWN 3</th>\n",
              "      <th>NUMBER DRAWN 4</th>\n",
              "      <th>NUMBER DRAWN 5</th>\n",
              "      <th>NUMBER DRAWN 6</th>\n",
              "      <th>BONUS NUMBER</th>\n",
              "    </tr>\n",
              "  </thead>\n",
              "  <tbody>\n",
              "    <tr>\n",
              "      <th>0</th>\n",
              "      <td>649</td>\n",
              "      <td>1</td>\n",
              "      <td>0</td>\n",
              "      <td>1982-06-12</td>\n",
              "      <td>3</td>\n",
              "      <td>11</td>\n",
              "      <td>12</td>\n",
              "      <td>14</td>\n",
              "      <td>41</td>\n",
              "      <td>43</td>\n",
              "      <td>13</td>\n",
              "    </tr>\n",
              "    <tr>\n",
              "      <th>1</th>\n",
              "      <td>649</td>\n",
              "      <td>2</td>\n",
              "      <td>0</td>\n",
              "      <td>1982-06-19</td>\n",
              "      <td>8</td>\n",
              "      <td>33</td>\n",
              "      <td>36</td>\n",
              "      <td>37</td>\n",
              "      <td>39</td>\n",
              "      <td>41</td>\n",
              "      <td>9</td>\n",
              "    </tr>\n",
              "    <tr>\n",
              "      <th>2</th>\n",
              "      <td>649</td>\n",
              "      <td>3</td>\n",
              "      <td>0</td>\n",
              "      <td>1982-06-26</td>\n",
              "      <td>1</td>\n",
              "      <td>6</td>\n",
              "      <td>23</td>\n",
              "      <td>24</td>\n",
              "      <td>27</td>\n",
              "      <td>39</td>\n",
              "      <td>34</td>\n",
              "    </tr>\n",
              "  </tbody>\n",
              "</table>\n",
              "</div>\n",
              "      <button class=\"colab-df-convert\" onclick=\"convertToInteractive('df-898458a1-e210-4023-b603-b63b6fe0fe9f')\"\n",
              "              title=\"Convert this dataframe to an interactive table.\"\n",
              "              style=\"display:none;\">\n",
              "        \n",
              "  <svg xmlns=\"http://www.w3.org/2000/svg\" height=\"24px\"viewBox=\"0 0 24 24\"\n",
              "       width=\"24px\">\n",
              "    <path d=\"M0 0h24v24H0V0z\" fill=\"none\"/>\n",
              "    <path d=\"M18.56 5.44l.94 2.06.94-2.06 2.06-.94-2.06-.94-.94-2.06-.94 2.06-2.06.94zm-11 1L8.5 8.5l.94-2.06 2.06-.94-2.06-.94L8.5 2.5l-.94 2.06-2.06.94zm10 10l.94 2.06.94-2.06 2.06-.94-2.06-.94-.94-2.06-.94 2.06-2.06.94z\"/><path d=\"M17.41 7.96l-1.37-1.37c-.4-.4-.92-.59-1.43-.59-.52 0-1.04.2-1.43.59L10.3 9.45l-7.72 7.72c-.78.78-.78 2.05 0 2.83L4 21.41c.39.39.9.59 1.41.59.51 0 1.02-.2 1.41-.59l7.78-7.78 2.81-2.81c.8-.78.8-2.07 0-2.86zM5.41 20L4 18.59l7.72-7.72 1.47 1.35L5.41 20z\"/>\n",
              "  </svg>\n",
              "      </button>\n",
              "      \n",
              "  <style>\n",
              "    .colab-df-container {\n",
              "      display:flex;\n",
              "      flex-wrap:wrap;\n",
              "      gap: 12px;\n",
              "    }\n",
              "\n",
              "    .colab-df-convert {\n",
              "      background-color: #E8F0FE;\n",
              "      border: none;\n",
              "      border-radius: 50%;\n",
              "      cursor: pointer;\n",
              "      display: none;\n",
              "      fill: #1967D2;\n",
              "      height: 32px;\n",
              "      padding: 0 0 0 0;\n",
              "      width: 32px;\n",
              "    }\n",
              "\n",
              "    .colab-df-convert:hover {\n",
              "      background-color: #E2EBFA;\n",
              "      box-shadow: 0px 1px 2px rgba(60, 64, 67, 0.3), 0px 1px 3px 1px rgba(60, 64, 67, 0.15);\n",
              "      fill: #174EA6;\n",
              "    }\n",
              "\n",
              "    [theme=dark] .colab-df-convert {\n",
              "      background-color: #3B4455;\n",
              "      fill: #D2E3FC;\n",
              "    }\n",
              "\n",
              "    [theme=dark] .colab-df-convert:hover {\n",
              "      background-color: #434B5C;\n",
              "      box-shadow: 0px 1px 3px 1px rgba(0, 0, 0, 0.15);\n",
              "      filter: drop-shadow(0px 1px 2px rgba(0, 0, 0, 0.3));\n",
              "      fill: #FFFFFF;\n",
              "    }\n",
              "  </style>\n",
              "\n",
              "      <script>\n",
              "        const buttonEl =\n",
              "          document.querySelector('#df-898458a1-e210-4023-b603-b63b6fe0fe9f button.colab-df-convert');\n",
              "        buttonEl.style.display =\n",
              "          google.colab.kernel.accessAllowed ? 'block' : 'none';\n",
              "\n",
              "        async function convertToInteractive(key) {\n",
              "          const element = document.querySelector('#df-898458a1-e210-4023-b603-b63b6fe0fe9f');\n",
              "          const dataTable =\n",
              "            await google.colab.kernel.invokeFunction('convertToInteractive',\n",
              "                                                     [key], {});\n",
              "          if (!dataTable) return;\n",
              "\n",
              "          const docLinkHtml = 'Like what you see? Visit the ' +\n",
              "            '<a target=\"_blank\" href=https://colab.research.google.com/notebooks/data_table.ipynb>data table notebook</a>'\n",
              "            + ' to learn more about interactive tables.';\n",
              "          element.innerHTML = '';\n",
              "          dataTable['output_type'] = 'display_data';\n",
              "          await google.colab.output.renderOutput(dataTable, element);\n",
              "          const docLink = document.createElement('div');\n",
              "          docLink.innerHTML = docLinkHtml;\n",
              "          element.appendChild(docLink);\n",
              "        }\n",
              "      </script>\n",
              "    </div>\n",
              "  </div>\n",
              "  "
            ]
          },
          "metadata": {},
          "execution_count": 3
        }
      ]
    },
    {
      "cell_type": "code",
      "source": [
        "def get_winning_number(df): \n",
        "  number_set = []\n",
        "  for index, row in df.iterrows(): \n",
        "    number_set.append(row[4:].tolist()) #df column number drawn 1 to Bonus \n",
        "  print(\"The total of\",len(number_set), \"draw winning numbers are retrieved\")\n",
        "  return number_set\n",
        "winning_numbers = get_winning_number(df)"
      ],
      "metadata": {
        "id": "_Bu_amf9q7dt",
        "colab": {
          "base_uri": "https://localhost:8080/"
        },
        "outputId": "fe877728-06d4-4956-e239-66c8351810c9"
      },
      "execution_count": 4,
      "outputs": [
        {
          "output_type": "stream",
          "name": "stdout",
          "text": [
            "The total of 4006 draw winning numbers are retrieved\n"
          ]
        }
      ]
    },
    {
      "cell_type": "code",
      "source": [
        "def number2onehot(numbers):\n",
        "  encoded = np.zeros(49) \n",
        "  for number in numbers: \n",
        "    encoded[number - 1] = 1\n",
        "  return encoded\n",
        "\n",
        "def onehot2number(numbers): \n",
        "  decoded  = []\n",
        "  index = 0\n",
        "  for number in numbers: \n",
        "    if number == 1: \n",
        "      decoded.append(index + 1)\n",
        "    index += 1 \n",
        "  return decoded\n",
        "\n",
        "enc_winning_numbers = list(map(number2onehot,winning_numbers))\n",
        "# decoded_winning_numbers = list(map(onehot2number, enc_winning_numbers))"
      ],
      "metadata": {
        "id": "o6FiuRO7ZpQR"
      },
      "execution_count": 5,
      "outputs": []
    },
    {
      "cell_type": "code",
      "source": [
        "total_draws = len(enc_winning_numbers)\n",
        "x_samples = enc_winning_numbers[0:total_draws-1]\n",
        "y_samples = enc_winning_numbers[1:total_draws]"
      ],
      "metadata": {
        "id": "u9YBF3Qn6Q1x"
      },
      "execution_count": 6,
      "outputs": []
    },
    {
      "cell_type": "code",
      "source": [
        "train_idx = (0, 3500)\n",
        "val_idx = (3500, 3600)\n",
        "test_idx = (3600, len(x_samples))\n",
        "\n",
        "print(\"train: {0}, val: {1}, test: {2}\".format(train_idx, val_idx, test_idx))"
      ],
      "metadata": {
        "colab": {
          "base_uri": "https://localhost:8080/"
        },
        "id": "1BTVXadiENai",
        "outputId": "ce8cac0d-ad30-4436-cf6a-fb38947004c1"
      },
      "execution_count": 7,
      "outputs": [
        {
          "output_type": "stream",
          "name": "stdout",
          "text": [
            "train: (0, 3500), val: (3500, 3600), test: (3600, 4005)\n"
          ]
        }
      ]
    },
    {
      "cell_type": "code",
      "source": [
        "import tensorflow as tf\n",
        "from tensorflow import keras\n",
        "from tensorflow.keras import layers\n",
        "from tensorflow.keras import models\n",
        "\n",
        "# LSTM model with 128 layers \n",
        "model = keras.Sequential([\n",
        "    keras.layers.LSTM(128, batch_input_shape=(1, 1, 49), return_sequences=False, stateful=True),\n",
        "    keras.layers.Dense(49, activation='sigmoid')\n",
        "])\n",
        "\n",
        "model.compile(loss='binary_crossentropy', optimizer='adam', metrics=['accuracy'])"
      ],
      "metadata": {
        "id": "KVgtMpt5ESBC"
      },
      "execution_count": 8,
      "outputs": []
    },
    {
      "cell_type": "code",
      "source": [
        "train_loss = []\n",
        "train_acc = []\n",
        "val_loss = []\n",
        "val_acc = []\n",
        "\n",
        "# max 100 epochs\n",
        "for epoch in range(100):\n",
        "\n",
        "    model.reset_states() # reset state every epoch \n",
        "\n",
        "    batch_train_loss = []\n",
        "    batch_train_acc = []\n",
        "    \n",
        "    for i in range(train_idx[0], train_idx[1]):\n",
        "        \n",
        "        xs = x_samples[i].reshape(1, 1, 49)\n",
        "        ys = y_samples[i].reshape(1, 49)\n",
        "        \n",
        "        loss, acc = model.train_on_batch(xs, ys) \n",
        "\n",
        "        batch_train_loss.append(loss)\n",
        "        batch_train_acc.append(acc)\n",
        "\n",
        "    train_loss.append(np.mean(batch_train_loss))\n",
        "    train_acc.append(np.mean(batch_train_acc))\n",
        "\n",
        "    batch_val_loss = []\n",
        "    batch_val_acc = []\n",
        "\n",
        "    for i in range(val_idx[0], val_idx[1]):\n",
        "\n",
        "        xs = x_samples[i].reshape(1, 1, 49)\n",
        "        ys = y_samples[i].reshape(1, 49)\n",
        "  \n",
        "        loss, acc = model.test_on_batch(xs, ys) #compare answers \n",
        "        \n",
        "        batch_val_loss.append(loss)\n",
        "        batch_val_acc.append(acc)\n",
        "\n",
        "    val_loss.append(np.mean(batch_val_loss))\n",
        "    val_acc.append(np.mean(batch_val_acc))\n",
        "\n",
        "    print('epoch {0:4d} train acc {1:0.3f} loss {2:0.3f} val acc {3:0.3f} loss {4:0.3f}'.format(epoch, np.mean(batch_train_acc), np.mean(batch_train_loss), np.mean(batch_val_acc), np.mean(batch_val_loss)))\n"
      ],
      "metadata": {
        "colab": {
          "base_uri": "https://localhost:8080/"
        },
        "id": "LWrr8yH6EfWZ",
        "outputId": "d84c137e-69a4-4bc5-b8db-f90b76f6af16"
      },
      "execution_count": null,
      "outputs": [
        {
          "output_type": "stream",
          "name": "stdout",
          "text": [
            "epoch    0 train acc 0.015 loss 0.416 val acc 0.020 loss 0.412\n",
            "epoch    1 train acc 0.013 loss 0.412 val acc 0.010 loss 0.412\n",
            "epoch    2 train acc 0.015 loss 0.410 val acc 0.010 loss 0.413\n",
            "epoch    3 train acc 0.022 loss 0.409 val acc 0.020 loss 0.414\n",
            "epoch    4 train acc 0.027 loss 0.406 val acc 0.040 loss 0.415\n",
            "epoch    5 train acc 0.032 loss 0.403 val acc 0.040 loss 0.417\n",
            "epoch    6 train acc 0.039 loss 0.400 val acc 0.030 loss 0.420\n",
            "epoch    7 train acc 0.043 loss 0.397 val acc 0.030 loss 0.422\n",
            "epoch    8 train acc 0.051 loss 0.393 val acc 0.020 loss 0.425\n",
            "epoch    9 train acc 0.057 loss 0.387 val acc 0.010 loss 0.429\n",
            "epoch   10 train acc 0.062 loss 0.382 val acc 0.010 loss 0.433\n",
            "epoch   11 train acc 0.067 loss 0.375 val acc 0.010 loss 0.438\n",
            "epoch   12 train acc 0.073 loss 0.368 val acc 0.010 loss 0.444\n",
            "epoch   13 train acc 0.087 loss 0.360 val acc 0.010 loss 0.450\n",
            "epoch   14 train acc 0.099 loss 0.352 val acc 0.000 loss 0.456\n",
            "epoch   15 train acc 0.106 loss 0.345 val acc 0.000 loss 0.463\n",
            "epoch   16 train acc 0.112 loss 0.337 val acc 0.000 loss 0.472\n",
            "epoch   17 train acc 0.114 loss 0.330 val acc 0.010 loss 0.482\n",
            "epoch   18 train acc 0.119 loss 0.323 val acc 0.010 loss 0.491\n",
            "epoch   19 train acc 0.121 loss 0.317 val acc 0.000 loss 0.498\n",
            "epoch   20 train acc 0.127 loss 0.311 val acc 0.010 loss 0.506\n",
            "epoch   21 train acc 0.126 loss 0.306 val acc 0.010 loss 0.518\n",
            "epoch   22 train acc 0.125 loss 0.301 val acc 0.000 loss 0.528\n",
            "epoch   23 train acc 0.119 loss 0.298 val acc 0.010 loss 0.535\n",
            "epoch   24 train acc 0.113 loss 0.293 val acc 0.010 loss 0.544\n",
            "epoch   25 train acc 0.121 loss 0.290 val acc 0.010 loss 0.558\n",
            "epoch   26 train acc 0.119 loss 0.286 val acc 0.030 loss 0.566\n",
            "epoch   27 train acc 0.117 loss 0.284 val acc 0.010 loss 0.575\n",
            "epoch   28 train acc 0.119 loss 0.279 val acc 0.000 loss 0.583\n",
            "epoch   29 train acc 0.112 loss 0.278 val acc 0.010 loss 0.590\n",
            "epoch   30 train acc 0.117 loss 0.274 val acc 0.000 loss 0.594\n",
            "epoch   31 train acc 0.115 loss 0.273 val acc 0.000 loss 0.599\n",
            "epoch   32 train acc 0.122 loss 0.269 val acc 0.010 loss 0.607\n",
            "epoch   33 train acc 0.129 loss 0.267 val acc 0.010 loss 0.608\n",
            "epoch   34 train acc 0.131 loss 0.264 val acc 0.010 loss 0.618\n",
            "epoch   35 train acc 0.127 loss 0.261 val acc 0.020 loss 0.629\n",
            "epoch   36 train acc 0.129 loss 0.261 val acc 0.030 loss 0.639\n",
            "epoch   37 train acc 0.118 loss 0.259 val acc 0.030 loss 0.636\n",
            "epoch   38 train acc 0.122 loss 0.257 val acc 0.030 loss 0.644\n",
            "epoch   39 train acc 0.131 loss 0.256 val acc 0.020 loss 0.653\n",
            "epoch   40 train acc 0.128 loss 0.253 val acc 0.030 loss 0.660\n",
            "epoch   41 train acc 0.126 loss 0.250 val acc 0.030 loss 0.665\n",
            "epoch   42 train acc 0.128 loss 0.251 val acc 0.030 loss 0.667\n",
            "epoch   43 train acc 0.125 loss 0.251 val acc 0.040 loss 0.671\n",
            "epoch   44 train acc 0.134 loss 0.246 val acc 0.030 loss 0.675\n",
            "epoch   45 train acc 0.132 loss 0.245 val acc 0.040 loss 0.673\n",
            "epoch   46 train acc 0.120 loss 0.243 val acc 0.040 loss 0.671\n",
            "epoch   47 train acc 0.131 loss 0.242 val acc 0.040 loss 0.672\n",
            "epoch   48 train acc 0.128 loss 0.241 val acc 0.030 loss 0.675\n",
            "epoch   49 train acc 0.135 loss 0.238 val acc 0.040 loss 0.683\n",
            "epoch   50 train acc 0.125 loss 0.236 val acc 0.010 loss 0.683\n",
            "epoch   51 train acc 0.132 loss 0.234 val acc 0.020 loss 0.689\n",
            "epoch   52 train acc 0.133 loss 0.233 val acc 0.010 loss 0.694\n",
            "epoch   53 train acc 0.137 loss 0.231 val acc 0.020 loss 0.705\n",
            "epoch   54 train acc 0.138 loss 0.230 val acc 0.010 loss 0.711\n",
            "epoch   55 train acc 0.136 loss 0.229 val acc 0.010 loss 0.707\n",
            "epoch   56 train acc 0.137 loss 0.227 val acc 0.010 loss 0.717\n",
            "epoch   57 train acc 0.132 loss 0.228 val acc 0.020 loss 0.730\n",
            "epoch   58 train acc 0.138 loss 0.225 val acc 0.030 loss 0.734\n",
            "epoch   59 train acc 0.141 loss 0.223 val acc 0.020 loss 0.739\n",
            "epoch   60 train acc 0.140 loss 0.223 val acc 0.030 loss 0.752\n",
            "epoch   61 train acc 0.133 loss 0.223 val acc 0.020 loss 0.755\n",
            "epoch   62 train acc 0.138 loss 0.220 val acc 0.010 loss 0.750\n",
            "epoch   63 train acc 0.137 loss 0.219 val acc 0.010 loss 0.765\n"
          ]
        }
      ]
    },
    {
      "cell_type": "code",
      "source": [
        "%matplotlib inline\n",
        "import matplotlib.pyplot as plt\n",
        "\n",
        "fig, loss_ax = plt.subplots()\n",
        "\n",
        "acc_ax = loss_ax.twinx()\n",
        "\n",
        "loss_ax.plot(train_loss, 'y', label='train loss')\n",
        "loss_ax.plot(val_loss, 'r', label='val loss')\n",
        "\n",
        "acc_ax.plot(train_acc, 'b', label='train acc')\n",
        "acc_ax.plot(val_acc, 'g', label='val acc')\n",
        "\n",
        "loss_ax.set_xlabel('epoch')\n",
        "loss_ax.set_ylabel('loss')\n",
        "acc_ax.set_ylabel('accuray')\n",
        "\n",
        "loss_ax.legend(loc='upper left')\n",
        "acc_ax.legend(loc='lower left')\n",
        "\n",
        "plt.show()"
      ],
      "metadata": {
        "id": "PZBacpohH0yD"
      },
      "execution_count": null,
      "outputs": []
    },
    {
      "cell_type": "markdown",
      "source": [
        "- import past history \n",
        "- trainset include all the history to predict the latest number \n",
        "- history plot (accuracy, loss) \n",
        "- pull out most frequent number"
      ],
      "metadata": {
        "id": "_IF-8gdlDtIc"
      }
    }
  ]
}